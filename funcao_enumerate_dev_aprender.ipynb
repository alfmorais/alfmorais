{
  "nbformat": 4,
  "nbformat_minor": 0,
  "metadata": {
    "colab": {
      "name": "Untitled36.ipynb",
      "provenance": [],
      "authorship_tag": "ABX9TyOVfXpnGDPxyXbx9SwA5HKB",
      "include_colab_link": true
    },
    "kernelspec": {
      "name": "python3",
      "display_name": "Python 3"
    }
  },
  "cells": [
    {
      "cell_type": "markdown",
      "metadata": {
        "id": "view-in-github",
        "colab_type": "text"
      },
      "source": [
        "<a href=\"https://colab.research.google.com/github/alfmorais/alfmorais/blob/main/funcao_enumerate_dev_aprender.ipynb\" target=\"_parent\"><img src=\"https://colab.research.google.com/assets/colab-badge.svg\" alt=\"Open In Colab\"/></a>"
      ]
    },
    {
      "cell_type": "code",
      "metadata": {
        "colab": {
          "base_uri": "https://localhost:8080/"
        },
        "id": "FeHfPt2W77_z",
        "outputId": "4c9e5f6d-1da4-4678-ae27-f742aadbc72a"
      },
      "source": [
        "# Função Enumerate\r\n",
        "\r\n",
        "for numero in range(1,11):\r\n",
        "  print(numero)\r\n",
        "\r\n",
        "nomes = ['Alfredo', 'Denise', 'Baby1', 'Baby2', 'Baby3']\r\n",
        "\r\n",
        "for nome in nomes:\r\n",
        "  print(nome)"
      ],
      "execution_count": 2,
      "outputs": [
        {
          "output_type": "stream",
          "text": [
            "1\n",
            "2\n",
            "3\n",
            "4\n",
            "5\n",
            "6\n",
            "7\n",
            "8\n",
            "9\n",
            "10\n",
            "Alfredo\n",
            "Denise\n",
            "Baby1\n",
            "Baby2\n",
            "Baby3\n"
          ],
          "name": "stdout"
        }
      ]
    },
    {
      "cell_type": "code",
      "metadata": {
        "colab": {
          "base_uri": "https://localhost:8080/"
        },
        "id": "ByxWvjK68NYN",
        "outputId": "c643ef3a-429b-4ea2-bdf5-13a1a2052d6f"
      },
      "source": [
        "for indice, numero in enumerate(range(1, 11), 1):\r\n",
        "  print(indice, numero)\r\n",
        "  if indice == 5:\r\n",
        "    print('Estamos na metade da lista')"
      ],
      "execution_count": 6,
      "outputs": [
        {
          "output_type": "stream",
          "text": [
            "1 1\n",
            "2 2\n",
            "3 3\n",
            "4 4\n",
            "5 5\n",
            "Estamos na metade da lista\n",
            "6 6\n",
            "7 7\n",
            "8 8\n",
            "9 9\n",
            "10 10\n"
          ],
          "name": "stdout"
        }
      ]
    },
    {
      "cell_type": "code",
      "metadata": {
        "colab": {
          "base_uri": "https://localhost:8080/"
        },
        "id": "3BxAWfFq84r4",
        "outputId": "4e186dff-64b2-4b5e-bd50-b9b0d08c0108"
      },
      "source": [
        "for indice, nome in enumerate(nomes, 1):\r\n",
        "  print(indice, nome)\r\n",
        "  if indice == 3:\r\n",
        "    print('Já temos 3 pessoas!')"
      ],
      "execution_count": 7,
      "outputs": [
        {
          "output_type": "stream",
          "text": [
            "1 Alfredo\n",
            "2 Denise\n",
            "3 Baby1\n",
            "Já temos 3 pessoas!\n",
            "4 Baby2\n",
            "5 Baby3\n"
          ],
          "name": "stdout"
        }
      ]
    },
    {
      "cell_type": "code",
      "metadata": {
        "colab": {
          "base_uri": "https://localhost:8080/"
        },
        "id": "dcFAg-Lg9J3v",
        "outputId": "3bea4934-effd-4226-8f60-025de150dc05"
      },
      "source": [
        "'''\r\n",
        "DESAFIO 1 \r\n",
        "\r\n",
        "Itere sobre a lista abaixo exibindo o número do indice + nome da fruta.\r\n",
        "Porém quando o indice for 3 exiba o número do indice + nome da fruta EM PROMOÇÃO\r\n",
        "'''\r\n",
        "\r\n",
        "frutas = ['Maça', 'Banana', 'Laranja', 'Melão', 'Melancia', 'Goiaba']\r\n",
        "\r\n",
        "for indice, fruta in enumerate(frutas, 1):\r\n",
        "  if indice == 3:\r\n",
        "    print(f'{indice} {fruta}, está em PROMOÇÃO!')\r\n",
        "  else:\r\n",
        "    print(indice, fruta)"
      ],
      "execution_count": 10,
      "outputs": [
        {
          "output_type": "stream",
          "text": [
            "1 Maça\n",
            "2 Banana\n",
            "3 Laranja, está em PROMOÇÃO!\n",
            "4 Melão\n",
            "5 Melancia\n",
            "6 Goiaba\n"
          ],
          "name": "stdout"
        }
      ]
    }
  ]
}