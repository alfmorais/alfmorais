{
  "nbformat": 4,
  "nbformat_minor": 0,
  "metadata": {
    "colab": {
      "name": "Untitled43.ipynb",
      "provenance": [],
      "authorship_tag": "ABX9TyPjWnb7rBflY7KHeXHVMJAH",
      "include_colab_link": true
    },
    "kernelspec": {
      "name": "python3",
      "display_name": "Python 3"
    }
  },
  "cells": [
    {
      "cell_type": "markdown",
      "metadata": {
        "id": "view-in-github",
        "colab_type": "text"
      },
      "source": [
        "<a href=\"https://colab.research.google.com/github/alfmorais/alfmorais/blob/main/exercio_pag_232_curso_de_python.ipynb\" target=\"_parent\"><img src=\"https://colab.research.google.com/assets/colab-badge.svg\" alt=\"Open In Colab\"/></a>"
      ]
    },
    {
      "cell_type": "code",
      "metadata": {
        "id": "bZDLo9a-Z4NR"
      },
      "source": [
        "class Restaurante():\r\n",
        "  '''Criando uma classe chamada restaurante!'''\r\n",
        "\r\n",
        "  def __init__(self, nome_restaurante, tipo_de_cozinha):\r\n",
        "    '''Iniciando os atributos dessa classe'''\r\n",
        "    self.nome_restaurante = nome_restaurante\r\n",
        "    self.tipo_de_cozinha = tipo_de_cozinha\r\n",
        "    # Acrescentando novo valor\r\n",
        "    self.number_served = 0\r\n",
        "\r\n",
        "  def describe_restaurant(self):\r\n",
        "    '''Formata o nome do restaurante!'''\r\n",
        "    print(f'O restaurante {self.nome_restaurante} tem como tema principal: {self.tipo_de_cozinha}')\r\n",
        "\r\n",
        "  def open_restaurant(self):\r\n",
        "    '''Avisa qual é a hora que o restaurante estara aberto'''\r\n",
        "    print(f'O restaurante {self.nome_restaurante} fica aberto das 12h00 as 23h00')\r\n",
        "\r\n",
        "  # Exercicio 9.4 - Página 232\r\n",
        "  def restaurante(self, number_served):\r\n",
        "    '''Imprime quantas pessoas foram atendidas'''\r\n",
        "    self.number_served = number_served\r\n",
        "    print(f'O total de pessoas atendidas foi: {self.number_served}')\r\n",
        "  \r\n",
        "  def set_number_served(self, number_served):\r\n",
        "    '''Permite definir o número de clientes atendidos'''\r\n",
        "    self.number_served = number_served\r\n",
        "    print(f'O total de pessoas atendidas foi: {self.number_served}')\r\n",
        "\r\n",
        "  def increment_number_served(self, customers):\r\n",
        "    '''Faz um incremento de pessoas atendidas'''\r\n",
        "    self.number_served += customers\r\n",
        "    print(f'O total de pessoas atendidas foi: {self.number_served}')"
      ],
      "execution_count": 27,
      "outputs": []
    },
    {
      "cell_type": "code",
      "metadata": {
        "colab": {
          "base_uri": "https://localhost:8080/"
        },
        "id": "nF-1338Lb4aG",
        "outputId": "1a1648e0-4ce3-4fab-8bdb-c5b341c6b350"
      },
      "source": [
        "restaurante = Restaurante('Sabor Brasil', 'Culinária Brasileira')\r\n",
        "\r\n",
        "restaurante.describe_restaurant()\r\n",
        "\r\n",
        "restaurante.open_restaurant()\r\n",
        "\r\n",
        "restaurante.restaurante(10)\r\n",
        "\r\n",
        "restaurante.set_number_served(15)\r\n",
        "\r\n",
        "restaurante.increment_number_served(65)"
      ],
      "execution_count": 28,
      "outputs": [
        {
          "output_type": "stream",
          "text": [
            "O restaurante Sabor Brasil tem como tema principal: Culinária Brasileira\n",
            "O restaurante Sabor Brasil fica aberto das 12h00 as 23h00\n",
            "O total de pessoas atendidas foi: 10\n",
            "O total de pessoas atendidas foi: 15\n",
            "O total de pessoas atendidas foi: 80\n"
          ],
          "name": "stdout"
        }
      ]
    }
  ]
}